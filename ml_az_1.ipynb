{
  "nbformat": 4,
  "nbformat_minor": 0,
  "metadata": {
    "colab": {
      "provenance": [],
      "authorship_tag": "ABX9TyPF3AnBIM7d0V3mdxqKWWQ1",
      "include_colab_link": true
    },
    "kernelspec": {
      "name": "python3",
      "display_name": "Python 3"
    },
    "language_info": {
      "name": "python"
    }
  },
  "cells": [
    {
      "cell_type": "markdown",
      "metadata": {
        "id": "view-in-github",
        "colab_type": "text"
      },
      "source": [
        "<a href=\"https://colab.research.google.com/github/angon1/ml_az/blob/main/ml_az_1.ipynb\" target=\"_parent\"><img src=\"https://colab.research.google.com/assets/colab-badge.svg\" alt=\"Open In Colab\"/></a>"
      ]
    },
    {
      "cell_type": "code",
      "execution_count": 1,
      "metadata": {
        "colab": {
          "base_uri": "https://localhost:8080/"
        },
        "id": "cehhdbFfgxPe",
        "outputId": "aee4afb5-3f78-409d-dd5d-a5b528aa2971"
      },
      "outputs": [
        {
          "output_type": "stream",
          "name": "stdout",
          "text": [
            "Tralala\n"
          ]
        }
      ],
      "source": [
        "print('Tralala')"
      ]
    },
    {
      "cell_type": "code",
      "source": [],
      "metadata": {
        "id": "skvzLMIuhBHM"
      },
      "execution_count": null,
      "outputs": []
    }
  ]
}